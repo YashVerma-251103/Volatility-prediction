{
 "cells": [
  {
   "cell_type": "code",
   "execution_count": 1,
   "metadata": {},
   "outputs": [],
   "source": [
    "import pandas as pd\n",
    "import numpy as np\n",
    "import yfinance as yf\n",
    "\n",
    "from pandas_datareader import data as pdata\n",
    "from sklearn.preprocessing import StandardScaler as ssc"
   ]
  },
  {
   "cell_type": "code",
   "execution_count": 2,
   "metadata": {},
   "outputs": [],
   "source": [
    "def fetch_financial_data(symbol, start_date, end_date):\n",
    "\n",
    "    # Fetching the historical data using yahoo finance and returing OHCLV data in pandas data frame.\n",
    "\n",
    "    dataframe=yf.download(symbol,start=start_date,end=end_date)\n",
    "    print(dataframe)\n",
    "    return dataframe"
   ]
  },
  {
   "cell_type": "code",
   "execution_count": null,
   "metadata": {},
   "outputs": [],
   "source": [
    "def calculate_realized_volatility(df, window=30):\n",
    "    \n",
    "    ## calculating realized volatility using the log returns\n",
    "\n",
    "    # daily return calculation\n",
    "    df['Returns']=np.log(df['Close']/df['Close'].shift(1))\n",
    "\n",
    "    # Standard Deviation Calculation -> Realized Volatility\n",
    "    "
   ]
  }
 ],
 "metadata": {
  "kernelspec": {
   "display_name": "dony",
   "language": "python",
   "name": "python3"
  },
  "language_info": {
   "codemirror_mode": {
    "name": "ipython",
    "version": 3
   },
   "file_extension": ".py",
   "mimetype": "text/x-python",
   "name": "python",
   "nbconvert_exporter": "python",
   "pygments_lexer": "ipython3",
   "version": "3.13.1"
  }
 },
 "nbformat": 4,
 "nbformat_minor": 2
}
